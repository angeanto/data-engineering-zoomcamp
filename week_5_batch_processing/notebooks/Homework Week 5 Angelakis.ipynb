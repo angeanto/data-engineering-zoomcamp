{
 "cells": [
  {
   "cell_type": "code",
   "execution_count": 1,
   "id": "c80241dd",
   "metadata": {},
   "outputs": [],
   "source": [
    "import pyspark\n",
    "from pyspark.sql import SparkSession\n",
    "import pandas as pd\n",
    "from pyspark.sql import types"
   ]
  },
  {
   "cell_type": "code",
   "execution_count": 2,
   "id": "20c87186",
   "metadata": {},
   "outputs": [
    {
     "name": "stderr",
     "output_type": "stream",
     "text": [
      "Setting default log level to \"WARN\".\n",
      "To adjust logging level use sc.setLogLevel(newLevel). For SparkR, use setLogLevel(newLevel).\n"
     ]
    },
    {
     "name": "stdout",
     "output_type": "stream",
     "text": [
      "23/02/25 17:33:08 WARN NativeCodeLoader: Unable to load native-hadoop library for your platform... using builtin-java classes where applicable\n"
     ]
    }
   ],
   "source": [
    "\n",
    "spark = SparkSession.builder \\\n",
    "    .master(\"local[*]\") \\\n",
    "    .appName('test') \\\n",
    "    .getOrCreate()"
   ]
  },
  {
   "cell_type": "code",
   "execution_count": null,
   "id": "101fa2b9",
   "metadata": {},
   "outputs": [],
   "source": [
    "df = spark.read \\\n",
    "    .option(\"header\", \"true\") \\\n",
    "    .csv('taxi+_zone_lookup.csv')\n",
    "\n",
    "df.show()"
   ]
  },
  {
   "cell_type": "code",
   "execution_count": null,
   "id": "681bd743",
   "metadata": {},
   "outputs": [],
   "source": [
    "spark.version"
   ]
  },
  {
   "cell_type": "code",
   "execution_count": null,
   "id": "a50de5fa",
   "metadata": {},
   "outputs": [],
   "source": [
    "!wget https://github.com/DataTalksClub/nyc-tlc-data/releases/download/fhvhv/fhvhv_tripdata_2021-06.csv.gz"
   ]
  },
  {
   "cell_type": "code",
   "execution_count": 28,
   "id": "2de45681",
   "metadata": {},
   "outputs": [],
   "source": [
    "fhv_schema = types.StructType([\n",
    "    types.StructField('dispatching_base_num', types.StringType(), True),\n",
    "    types.StructField('pickup_datetime', types.TimestampType(), True),\n",
    "    types.StructField('dropoff_datetime', types.TimestampType(), True),\n",
    "    types.StructField('PULocationID', types.StringType(), True),\n",
    "    types.StructField('SR_Flag', types.IntegerType(), True),\n",
    "    types.StructField('DOLocationID', types.IntegerType(), True),\n",
    "    types.StructField('hvfhs_license_num', types.StringType(), True),\n",
    "])"
   ]
  },
  {
   "cell_type": "code",
   "execution_count": 29,
   "id": "3b0ebbbf",
   "metadata": {},
   "outputs": [
    {
     "name": "stdout",
     "output_type": "stream",
     "text": [
      "/home/antonis/notebooks\r\n"
     ]
    }
   ],
   "source": [
    "!pwd"
   ]
  },
  {
   "cell_type": "code",
   "execution_count": 30,
   "id": "984309a3",
   "metadata": {},
   "outputs": [],
   "source": [
    "df_fhv = spark.read \\\n",
    "        .option(\"header\", \"true\") \\\n",
    "        .schema(fhv_schema) \\\n",
    "        .csv('fhvhv_tripdata_2021-06.csv.gz')"
   ]
  },
  {
   "cell_type": "code",
   "execution_count": 9,
   "id": "a6131ee3",
   "metadata": {},
   "outputs": [
    {
     "name": "stdout",
     "output_type": "stream",
     "text": [
      "23/02/25 17:42:25 WARN CSVHeaderChecker: CSV header does not conform to the schema.\n",
      " Header: dispatching_base_num, pickup_datetime, dropoff_datetime, PULocationID, DOLocationID, SR_Flag, Affiliated_base_number\n",
      " Schema: dispatching_base_num, pickup_datetime, dropoff_datetime, SR_Flag, PULocationID, DOLocationID, hvfhs_license_num\n",
      "Expected: SR_Flag but found: PULocationID\n",
      "CSV file: file:///home/antonis/notebooks/fhvhv_tripdata_2021-06.csv.gz\n",
      "+--------------------+-------------------+-------------------+-------+------------+------------+-----------------+\n",
      "|dispatching_base_num|    pickup_datetime|   dropoff_datetime|SR_Flag|PULocationID|DOLocationID|hvfhs_license_num|\n",
      "+--------------------+-------------------+-------------------+-------+------------+------------+-----------------+\n",
      "|              B02764|2021-06-01 00:02:41|2021-06-01 00:07:46|    174|          18|        null|           B02764|\n",
      "|              B02764|2021-06-01 00:16:16|2021-06-01 00:21:14|     32|         254|        null|           B02764|\n",
      "|              B02764|2021-06-01 00:27:01|2021-06-01 00:42:11|    240|         127|        null|           B02764|\n",
      "|              B02764|2021-06-01 00:46:08|2021-06-01 00:53:45|    127|         235|        null|           B02764|\n",
      "|              B02510|2021-06-01 00:45:42|2021-06-01 01:03:33|    144|         146|        null|             null|\n",
      "|              B02510|2021-06-01 00:18:15|2021-06-01 00:25:47|     49|          17|        null|             null|\n",
      "|              B02510|2021-06-01 00:33:06|2021-06-01 00:42:46|     49|         225|        null|             null|\n",
      "|              B02510|2021-06-01 00:46:27|2021-06-01 00:56:50|    225|         177|        null|             null|\n",
      "|              B02764|2021-06-01 00:48:06|2021-06-01 01:04:10|    209|          45|        null|           B02764|\n",
      "|              B02875|2021-06-01 00:18:54|2021-06-01 00:26:14|     80|         256|        null|           B02875|\n",
      "|              B02875|2021-06-01 00:31:02|2021-06-01 00:36:39|    217|          17|        null|           B02875|\n",
      "|              B02875|2021-06-01 00:41:53|2021-06-01 01:07:32|     17|         265|        null|           B02875|\n",
      "|              B02875|2021-06-01 00:29:52|2021-06-01 00:54:41|    210|          76|        null|           B02875|\n",
      "|              B02510|2021-06-01 00:15:57|2021-06-01 00:39:36|    226|         213|        null|             null|\n",
      "|              B02510|2021-06-01 00:11:59|2021-06-01 00:23:32|    191|           9|        null|             null|\n",
      "|              B02510|2021-06-01 00:30:35|2021-06-01 00:45:35|     16|         250|        null|             null|\n",
      "|              B02510|2021-06-01 00:49:01|2021-06-01 01:03:50|    182|         259|        null|             null|\n",
      "|              B02510|2021-06-01 00:07:36|2021-06-01 00:21:13|    188|          72|        null|             null|\n",
      "|              B02510|2021-06-01 00:25:48|2021-06-01 00:40:43|     39|          72|        null|             null|\n",
      "|              B02510|2021-06-01 00:46:11|2021-06-01 00:53:39|     72|          35|        null|             null|\n",
      "+--------------------+-------------------+-------------------+-------+------------+------------+-----------------+\n",
      "only showing top 20 rows\n",
      "\n"
     ]
    }
   ],
   "source": [
    "df_fhv.show()"
   ]
  },
  {
   "cell_type": "code",
   "execution_count": 5,
   "id": "63c17c09",
   "metadata": {},
   "outputs": [
    {
     "name": "stderr",
     "output_type": "stream",
     "text": [
      "\r",
      "[Stage 0:>                                                          (0 + 1) / 1]\r"
     ]
    },
    {
     "name": "stdout",
     "output_type": "stream",
     "text": [
      "23/02/25 17:37:02 WARN CSVHeaderChecker: CSV header does not conform to the schema.\n",
      " Header: dispatching_base_num, pickup_datetime, dropoff_datetime, PULocationID, DOLocationID, SR_Flag, Affiliated_base_number\n",
      " Schema: dispatching_base_num, pickup_datetime, dropoff_datetime, SR_Flag, PULocationID, DOLocationID, hvfhs_license_num\n",
      "Expected: SR_Flag but found: PULocationID\n",
      "CSV file: file:///home/antonis/notebooks/fhvhv_tripdata_2021-06.csv.gz\n"
     ]
    },
    {
     "name": "stderr",
     "output_type": "stream",
     "text": [
      "                                                                                \r"
     ]
    }
   ],
   "source": [
    "output_path = 'data/fhv/parquet'\n",
    "\n",
    "df_fhv = spark.read \\\n",
    "        .option(\"header\", \"true\") \\\n",
    "        .schema(fhv_schema) \\\n",
    "        .csv('fhvhv_tripdata_2021-06.csv.gz')\n",
    "\n",
    "df_fhv \\\n",
    "    .repartition(12) \\\n",
    "    .write.parquet(output_path)"
   ]
  },
  {
   "cell_type": "code",
   "execution_count": null,
   "id": "4a03b694",
   "metadata": {},
   "outputs": [],
   "source": [
    "df_fhv.show()"
   ]
  },
  {
   "cell_type": "code",
   "execution_count": 31,
   "id": "c7702a33",
   "metadata": {},
   "outputs": [
    {
     "name": "stderr",
     "output_type": "stream",
     "text": [
      "/home/antonis/spark/spark-3.3.2-bin-hadoop3/python/pyspark/sql/dataframe.py:229: FutureWarning: Deprecated in 2.0, use createOrReplaceTempView instead.\n",
      "  warnings.warn(\"Deprecated in 2.0, use createOrReplaceTempView instead.\", FutureWarning)\n"
     ]
    }
   ],
   "source": [
    "df_fhv.registerTempTable('trips_data')"
   ]
  },
  {
   "cell_type": "code",
   "execution_count": 10,
   "id": "e01ba070",
   "metadata": {},
   "outputs": [
    {
     "name": "stderr",
     "output_type": "stream",
     "text": [
      "\r",
      "[Stage 7:>                                                          (0 + 1) / 1]\r"
     ]
    },
    {
     "name": "stdout",
     "output_type": "stream",
     "text": [
      "+--------+\n",
      "|count(1)|\n",
      "+--------+\n",
      "|  452133|\n",
      "+--------+\n",
      "\n"
     ]
    },
    {
     "name": "stderr",
     "output_type": "stream",
     "text": [
      "\r",
      "                                                                                \r"
     ]
    }
   ],
   "source": [
    "# Q3\n",
    "spark.sql(\"\"\"\n",
    "SELECT\n",
    "COUNT(*)\n",
    "FROM\n",
    "    trips_data\n",
    "    WHERE pickup_datetime >= '2021-06-15 00:00:00' AND pickup_datetime <= '2021-06-15 23:59:00'\n",
    "\"\"\").show()"
   ]
  },
  {
   "cell_type": "code",
   "execution_count": 18,
   "id": "f835dc72",
   "metadata": {},
   "outputs": [
    {
     "name": "stderr",
     "output_type": "stream",
     "text": [
      "\r",
      "[Stage 13:>                                                         (0 + 1) / 1]\r"
     ]
    },
    {
     "name": "stdout",
     "output_type": "stream",
     "text": [
      "+---------+\n",
      "|max(diff)|\n",
      "+---------+\n",
      "|   240764|\n",
      "+---------+\n",
      "\n"
     ]
    },
    {
     "name": "stderr",
     "output_type": "stream",
     "text": [
      "\r",
      "                                                                                \r"
     ]
    }
   ],
   "source": [
    "# Q4\n",
    "spark.sql(\"\"\"\n",
    "\n",
    "SELECT MAX(diff)\n",
    "FROM\n",
    "(\n",
    "SELECT\n",
    "(bigint(to_timestamp(dropoff_datetime))) - (bigint(to_timestamp(pickup_datetime))) as diff\n",
    "FROM\n",
    "    trips_data\n",
    ")\n",
    "\"\"\").show()"
   ]
  },
  {
   "cell_type": "code",
   "execution_count": 32,
   "id": "53f492f8",
   "metadata": {},
   "outputs": [
    {
     "name": "stderr",
     "output_type": "stream",
     "text": [
      "\r",
      "[Stage 19:>                                                         (0 + 1) / 1]\r"
     ]
    },
    {
     "name": "stdout",
     "output_type": "stream",
     "text": [
      "+------------+------+\n",
      "|PULocationID| total|\n",
      "+------------+------+\n",
      "|          61|231279|\n",
      "|          79|221244|\n",
      "|         132|188867|\n",
      "|          37|187929|\n",
      "|          76|186780|\n",
      "+------------+------+\n",
      "\n"
     ]
    },
    {
     "name": "stderr",
     "output_type": "stream",
     "text": [
      "\r",
      "                                                                                \r"
     ]
    }
   ],
   "source": [
    "# Q6\n",
    "spark.sql(\"\"\"\n",
    "SELECT\n",
    "PULocationID,\n",
    "COUNT(*) AS total\n",
    "FROM\n",
    "    trips_data\n",
    "GROUP BY\n",
    "PULocationID\n",
    "ORDER BY total DESC\n",
    "LIMIT 5 \n",
    "\"\"\").show()"
   ]
  },
  {
   "cell_type": "code",
   "execution_count": 26,
   "id": "6789dd5e",
   "metadata": {},
   "outputs": [
    {
     "data": {
      "text/html": [
       "<div>\n",
       "<style scoped>\n",
       "    .dataframe tbody tr th:only-of-type {\n",
       "        vertical-align: middle;\n",
       "    }\n",
       "\n",
       "    .dataframe tbody tr th {\n",
       "        vertical-align: top;\n",
       "    }\n",
       "\n",
       "    .dataframe thead th {\n",
       "        text-align: right;\n",
       "    }\n",
       "</style>\n",
       "<table border=\"1\" class=\"dataframe\">\n",
       "  <thead>\n",
       "    <tr style=\"text-align: right;\">\n",
       "      <th></th>\n",
       "      <th>LocationID</th>\n",
       "      <th>Borough</th>\n",
       "      <th>Zone</th>\n",
       "      <th>service_zone</th>\n",
       "    </tr>\n",
       "  </thead>\n",
       "  <tbody>\n",
       "    <tr>\n",
       "      <th>0</th>\n",
       "      <td>1</td>\n",
       "      <td>EWR</td>\n",
       "      <td>Newark Airport</td>\n",
       "      <td>EWR</td>\n",
       "    </tr>\n",
       "    <tr>\n",
       "      <th>1</th>\n",
       "      <td>2</td>\n",
       "      <td>Queens</td>\n",
       "      <td>Jamaica Bay</td>\n",
       "      <td>Boro Zone</td>\n",
       "    </tr>\n",
       "    <tr>\n",
       "      <th>2</th>\n",
       "      <td>3</td>\n",
       "      <td>Bronx</td>\n",
       "      <td>Allerton/Pelham Gardens</td>\n",
       "      <td>Boro Zone</td>\n",
       "    </tr>\n",
       "    <tr>\n",
       "      <th>3</th>\n",
       "      <td>4</td>\n",
       "      <td>Manhattan</td>\n",
       "      <td>Alphabet City</td>\n",
       "      <td>Yellow Zone</td>\n",
       "    </tr>\n",
       "    <tr>\n",
       "      <th>4</th>\n",
       "      <td>5</td>\n",
       "      <td>Staten Island</td>\n",
       "      <td>Arden Heights</td>\n",
       "      <td>Boro Zone</td>\n",
       "    </tr>\n",
       "  </tbody>\n",
       "</table>\n",
       "</div>"
      ],
      "text/plain": [
       "   LocationID        Borough                     Zone service_zone\n",
       "0           1            EWR           Newark Airport          EWR\n",
       "1           2         Queens              Jamaica Bay    Boro Zone\n",
       "2           3          Bronx  Allerton/Pelham Gardens    Boro Zone\n",
       "3           4      Manhattan            Alphabet City  Yellow Zone\n",
       "4           5  Staten Island            Arden Heights    Boro Zone"
      ]
     },
     "execution_count": 26,
     "metadata": {},
     "output_type": "execute_result"
    }
   ],
   "source": [
    "zones = pd.read_csv('taxi+_zone_lookup.csv')\n",
    "zones.head(5)"
   ]
  },
  {
   "cell_type": "code",
   "execution_count": 33,
   "id": "e735547c",
   "metadata": {},
   "outputs": [
    {
     "data": {
      "text/html": [
       "<div>\n",
       "<style scoped>\n",
       "    .dataframe tbody tr th:only-of-type {\n",
       "        vertical-align: middle;\n",
       "    }\n",
       "\n",
       "    .dataframe tbody tr th {\n",
       "        vertical-align: top;\n",
       "    }\n",
       "\n",
       "    .dataframe thead th {\n",
       "        text-align: right;\n",
       "    }\n",
       "</style>\n",
       "<table border=\"1\" class=\"dataframe\">\n",
       "  <thead>\n",
       "    <tr style=\"text-align: right;\">\n",
       "      <th></th>\n",
       "      <th>LocationID</th>\n",
       "      <th>Borough</th>\n",
       "      <th>Zone</th>\n",
       "      <th>service_zone</th>\n",
       "    </tr>\n",
       "  </thead>\n",
       "  <tbody>\n",
       "    <tr>\n",
       "      <th>60</th>\n",
       "      <td>61</td>\n",
       "      <td>Brooklyn</td>\n",
       "      <td>Crown Heights North</td>\n",
       "      <td>Boro Zone</td>\n",
       "    </tr>\n",
       "  </tbody>\n",
       "</table>\n",
       "</div>"
      ],
      "text/plain": [
       "    LocationID   Borough                 Zone service_zone\n",
       "60          61  Brooklyn  Crown Heights North    Boro Zone"
      ]
     },
     "execution_count": 33,
     "metadata": {},
     "output_type": "execute_result"
    }
   ],
   "source": [
    "zones[zones['LocationID'] == 61]"
   ]
  },
  {
   "cell_type": "code",
   "execution_count": null,
   "id": "44d775fe",
   "metadata": {},
   "outputs": [],
   "source": []
  }
 ],
 "metadata": {
  "kernelspec": {
   "display_name": "Python 3 (ipykernel)",
   "language": "python",
   "name": "python3"
  },
  "language_info": {
   "codemirror_mode": {
    "name": "ipython",
    "version": 3
   },
   "file_extension": ".py",
   "mimetype": "text/x-python",
   "name": "python",
   "nbconvert_exporter": "python",
   "pygments_lexer": "ipython3",
   "version": "3.9.13"
  }
 },
 "nbformat": 4,
 "nbformat_minor": 5
}
